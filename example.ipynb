{
  "nbformat": 4,
  "nbformat_minor": 0,
  "metadata": {
    "colab": {
      "name": "example.ipynb",
      "provenance": [],
      "collapsed_sections": []
    },
    "kernelspec": {
      "name": "python3",
      "display_name": "Python 3"
    },
    "language_info": {
      "name": "python"
    },
    "accelerator": "GPU",
    "gpuClass": "standard"
  },
  "cells": [
    {
      "cell_type": "code",
      "execution_count": null,
      "metadata": {
        "id": "Fq5kJdjYGEAw"
      },
      "outputs": [],
      "source": [
        "!git clone https://github.com/MojammelHossain/coref_model.git"
      ]
    },
    {
      "cell_type": "code",
      "source": [
        "#%tensorflow_version 1.x\n",
        "!pip install pyhocon\n",
        "!pip install scikit-learn==0.22.2\n",
        "!pip install transformers"
      ],
      "metadata": {
        "id": "524bMO1bGIR3"
      },
      "execution_count": null,
      "outputs": []
    },
    {
      "cell_type": "code",
      "source": [
        "%cd /content/coref_model"
      ],
      "metadata": {
        "colab": {
          "base_uri": "https://localhost:8080/"
        },
        "id": "Ntzto2NUL7lo",
        "outputId": "0208d2cf-f11e-4fac-ebdc-fdeae6d6ea3e"
      },
      "execution_count": 1,
      "outputs": [
        {
          "output_type": "stream",
          "name": "stdout",
          "text": [
            "/content/coref_model\n"
          ]
        }
      ]
    },
    {
      "cell_type": "code",
      "source": [
        "!bash /content/coref_model/setup_all.sh"
      ],
      "metadata": {
        "id": "RyLOi6pNIsNY"
      },
      "execution_count": 3,
      "outputs": []
    },
    {
      "cell_type": "code",
      "source": [
        "!GPU=0 python train.py train_bert_base"
      ],
      "metadata": {
        "id": "qfh3cM6kI0IR"
      },
      "execution_count": null,
      "outputs": []
    },
    {
      "cell_type": "code",
      "source": [
        ""
      ],
      "metadata": {
        "id": "qE0EAC0SL1dX"
      },
      "execution_count": null,
      "outputs": []
    }
  ]
}